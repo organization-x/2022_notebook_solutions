{
  "cells": [
    {
      "cell_type": "markdown",
      "metadata": {},
      "source": [
        "<h3>This model takes in an image of a peice of clothing and recognizes it</h3>"
      ]
    },
    {
      "cell_type": "markdown",
      "metadata": {},
      "source": [
        "<h1>Getting the Environment Set Up</h1>"
      ]
    },
    {
      "cell_type": "markdown",
      "metadata": {
        "id": "qAQI1JtBH6NX"
      },
      "source": [
        "Import Dependencies"
      ]
    },
    {
      "cell_type": "code",
      "execution_count": null,
      "metadata": {
        "id": "ptEQDylSP4SP"
      },
      "outputs": [],
      "source": [
        "import torch\n",
        "import torchvision\n",
        "import torch.optim as optim\n",
        "import torchvision.transforms as transforms\n",
        "import torch.nn as nn\n",
        "import torch.nn.functional as F"
      ]
    },
    {
      "cell_type": "markdown",
      "metadata": {
        "id": "dYu9n0fTDfet"
      },
      "source": [
        "Configure cuda/gpu if available"
      ]
    },
    {
      "cell_type": "markdown",
      "metadata": {
        "id": "eOCymhEgDh09"
      },
      "source": [
        "GPU boost training time. Why? Because it lets us do hundreds to thousands of calculations at the same time"
      ]
    },
    {
      "cell_type": "markdown",
      "metadata": {},
      "source": [
        "torch.device docs - https://pytorch.org/docs/stable/tensor_attributes.html#torch-device"
      ]
    },
    {
      "cell_type": "code",
      "execution_count": null,
      "metadata": {
        "id": "8hk0-8XDGnpd"
      },
      "outputs": [],
      "source": [
        "device = torch.device(\"cuda\" if torch.cuda.is_available() else \"cpu\")"
      ]
    },
    {
      "cell_type": "markdown",
      "metadata": {},
      "source": [
        "<h1>Managing our Images</h1>"
      ]
    },
    {
      "cell_type": "markdown",
      "metadata": {},
      "source": [
        "transforms docs - https://pytorch.org/vision/stable/transforms.html"
      ]
    },
    {
      "cell_type": "code",
      "execution_count": null,
      "metadata": {
        "id": "mgxEe11MLiry"
      },
      "outputs": [],
      "source": [
        "# Convert Data to Tensors and normalize\n",
        "transform = transforms.Compose(\n",
        "    [transforms.ToTensor(),\n",
        "     transforms.Normalize((0.5), (0.5))])"
      ]
    },
    {
      "cell_type": "markdown",
      "metadata": {},
      "source": [
        "datasets docs - https://pytorch.org/vision/stable/datasets.html"
      ]
    },
    {
      "cell_type": "code",
      "execution_count": null,
      "metadata": {
        "id": "Zd-szzHtHCYb"
      },
      "outputs": [],
      "source": [
        "# parameters\n",
        "input_size = 28 # 28 * 28\n",
        "num_classes = 10 # 10 labels\n",
        "num_epochs = 10 # 10 training iterations\n",
        "batch_size = 8\n",
        "\n",
        "# training set\n",
        "train_dataset = torchvision.datasets.FashionMNIST(\n",
        "    root = \"./data\",\n",
        "    train = True,\n",
        "    transform = transform,\n",
        "    download = True\n",
        ")\n",
        "\n",
        "# testing set\n",
        "test_dataset = torchvision.datasets.FashionMNIST(\n",
        "    root = \"./data\",\n",
        "    train = False,\n",
        "    transform = transform,\n",
        "    download = True\n",
        ")\n",
        "\n",
        "# Get batched Dataloaders\n",
        "trainloader = torch.utils.data.DataLoader(\n",
        "    dataset = train_dataset,\n",
        "    batch_size = batch_size,\n",
        "    shuffle = True # optional\n",
        ")\n",
        "\n",
        "testloader = torch.utils.data.DataLoader(\n",
        "    dataset = test_dataset,\n",
        "    batch_size = batch_size,\n",
        "    shuffle = True # optional\n",
        ")\n",
        "\n",
        "classes = (\"T-shirt/top\", \"Trouser\", \"Pullover\", \"Dress\", \"Coat\",\n",
        "           \"Sandal\", \"Shirt\", \"Sneaker\", \"Bag\", \"Ankle boot\")"
      ]
    },
    {
      "cell_type": "markdown",
      "metadata": {
        "id": "PRFvX2ylDwaB"
      },
      "source": [
        "Visualize our data"
      ]
    },
    {
      "cell_type": "markdown",
      "metadata": {},
      "source": [
        "matplotlib docs - https://matplotlib.org/stable/users/index"
      ]
    },
    {
      "cell_type": "code",
      "execution_count": null,
      "metadata": {
        "colab": {
          "base_uri": "https://localhost:8080/",
          "height": 112
        },
        "id": "s2DfOJeRLbwk",
        "outputId": "961e9441-4b66-42ac-8fd1-068e580efcf1"
      },
      "outputs": [
        {
          "data": {
            "image/png": "[encoded data removed]",
            "text/plain": [
              "<Figure size 432x288 with 1 Axes>"
            ]
          },
          "metadata": {
            "needs_background": "light"
          },
          "output_type": "display_data"
        },
        {
          "name": "stdout",
          "output_type": "stream",
          "text": [
            "Ankle boot Ankle boot Sandal Sneaker Shirt Bag   Dress Sneaker\n"
          ]
        }
      ],
      "source": [
        "import matplotlib.pyplot as plt\n",
        "import numpy as np\n",
        "\n",
        "# functions to show an image\n",
        "\n",
        "\n",
        "def imshow(img):\n",
        "    img = img / 2 + 0.5 # unnormalize\n",
        "    npimg = img.numpy()\n",
        "    plt.imshow(np.transpose(npimg, (1, 2, 0)))\n",
        "    plt.show()\n",
        "\n",
        "\n",
        "# get some random training images\n",
        "dataiter = iter(trainloader)\n",
        "images, labels = dataiter.next()\n",
        "\n",
        "# show images\n",
        "imshow(torchvision.utils.make_grid(images))\n",
        "# print labels\n",
        "print(' '.join(f'{classes[labels[j]]:5s}' for j in range(batch_size)))"
      ]
    },
    {
      "cell_type": "markdown",
      "metadata": {
        "id": "3xjsirAPK5sL"
      },
      "source": [
        "##### H2 = size of height after convolution\n",
        "##### W2 = size of width after convolution\n",
        "##### H1 = primitive height size\n",
        "##### FH = filter's height size\n",
        "##### W1 = primitive width size\n",
        "##### WH = filter's width size\n",
        "##### P = num padding\n",
        "##### S = stride"
      ]
    },
    {
      "cell_type": "markdown",
      "metadata": {
        "id": "-Teg5776K9ZF"
      },
      "source": [
        "#####H2 = (H1 - FH + 2P)/S + 1\n",
        "#####W2 = (W1 - FW + 2P)/S + 1"
      ]
    },
    {
      "cell_type": "markdown",
      "metadata": {},
      "source": [
        "<h1>Creating Our Model</h1>"
      ]
    },
    {
      "cell_type": "markdown",
      "metadata": {
        "id": "mpRX_NL4Ict7"
      },
      "source": [
        "Data format: [batch_size, 1(grey, 3 if RGB but not applicable here), 28, 28]"
      ]
    },
    {
      "cell_type": "markdown",
      "metadata": {},
      "source": [
        "Module docs - https://pytorch.org/docs/stable/generated/torch.nn.Module.html <br> nn docs - https://pytorch.org/docs/stable/nn.html"
      ]
    },
    {
      "cell_type": "code",
      "execution_count": null,
      "metadata": {
        "id": "UslclwUyIU6p"
      },
      "outputs": [],
      "source": [
        "class CNN(nn.Module):\n",
        "  def __init__(self):\n",
        "    super(CNN, self).__init__() \n",
        "    self.conv_layer_1 = nn.Sequential( # input.shape: [batch, 1, 28, 28]\n",
        "        nn.Conv2d(\n",
        "            in_channels=1, # grey scale, 3 otherwise if RGB   \n",
        "            out_channels=16, # 16 x 1(grey scale, 3 otherwise if RGB ) filters\n",
        "            kernel_size=5, # convolution extraction size\n",
        "            stride=1,\n",
        "            padding=2 # for convoluted output to be same size,\n",
        "                      # need padding=(kernel_size-1)/2 if stride = 1\n",
        "        ),\n",
        "        nn.ReLU(),\n",
        "        nn.MaxPool2d(kernel_size=2) # (2x2 maxpool), out.shape: [16, 14, 14]\n",
        "    )\n",
        "    self.conv_layer_2 = nn.Sequential( # input.shape: [batch, 16, 14, 14]\n",
        "        nn.Conv2d(\n",
        "            in_channels=16,\n",
        "            out_channels=32, # 32 filters\n",
        "            kernel_size=5,\n",
        "            stride=1,\n",
        "            padding=2\n",
        "        ),\n",
        "        nn.ReLU(),\n",
        "        nn.MaxPool2d(kernel_size=2) # (2x2 maxpool), out.shape: [32, 7, 7]\n",
        "    )\n",
        "    self.fc = nn.Linear(32*7*7, 10)\n",
        "\n",
        "  def forward(self, x):\n",
        "    # x.shape: [batch_size, 1, 28, 28] -> [batch_size, 16, 14, 14]\n",
        "    x = self.conv_layer_1(x)\n",
        "    # x.shape: [batch_size, 16, 14, 14] -> [batch_size, 32, 7, 7]\n",
        "    x = self.conv_layer_2(x)\n",
        "    x = x.view(x.shape[0], -1) # flatten: [batch_size, 32*7*7]\n",
        "    # x.shape: [batch_size, 32*7*7] -> [batch_size, 10]\n",
        "    out = self.fc(x)\n",
        "    return out"
      ]
    },
    {
      "cell_type": "markdown",
      "metadata": {},
      "source": [
        "optim docs - https://pytorch.org/docs/stable/optim.html"
      ]
    },
    {
      "cell_type": "code",
      "execution_count": null,
      "metadata": {
        "id": "83YcVBTMNkE0"
      },
      "outputs": [],
      "source": [
        "model = CNN()\n",
        "model.to(device) # cast model to device\n",
        "\n",
        "criterion = nn.CrossEntropyLoss()\n",
        "criterion.to(device) # cast loss function to device\n",
        "\n",
        "optimizer = optim.Adam(model.parameters(), lr=0.001)"
      ]
    },
    {
      "cell_type": "markdown",
      "metadata": {
        "id": "S4nlQyOVNmkk"
      },
      "source": [
        "<h1>Training our Model</h1>"
      ]
    },
    {
      "cell_type": "code",
      "execution_count": null,
      "metadata": {
        "colab": {
          "base_uri": "https://localhost:8080/"
        },
        "id": "Jm4C52vBNxBi",
        "outputId": "7c1ac7da-1d31-483c-ff84-63eccb56d49b"
      },
      "outputs": [
        {
          "name": "stdout",
          "output_type": "stream",
          "text": [
            "[1,  3750] loss: 0.458\n",
            "[1,  7500] loss: 0.330\n",
            "[2,  3750] loss: 0.288\n",
            "[2,  7500] loss: 0.279\n",
            "[3,  3750] loss: 0.259\n",
            "[3,  7500] loss: 0.254\n",
            "Finished Training\n"
          ]
        }
      ],
      "source": [
        "for epoch in range(3):  # loop over the dataset multiple times\n",
        "    running_loss = 0.0\n",
        "    for i, data in enumerate(trainloader):\n",
        "        # get the inputs; data is a list of [inputs, labels]\n",
        "        inputs, labels = data\n",
        "        inputs = inputs.to(device) # cast input to device\n",
        "        labels = labels.to(device) # cast output to device\n",
        "\n",
        "        # zero the parameter gradients\n",
        "        optimizer.zero_grad()\n",
        "\n",
        "        # forward + backward + optimize\n",
        "        outputs = model(inputs)\n",
        "        loss = criterion(outputs, labels)\n",
        "        loss.backward()\n",
        "        optimizer.step()\n",
        "\n",
        "        # print statistics\n",
        "        running_loss += loss.item()\n",
        "        if i % 3750 == 3749:    # print every 3750 mini-batches\n",
        "            print(f'[{epoch + 1}, {i + 1:5d}] loss: {running_loss / 3750:.3f}')\n",
        "            running_loss = 0.0\n",
        "\n",
        "print('Finished Training')"
      ]
    },
    {
      "cell_type": "markdown",
      "metadata": {},
      "source": [
        "<h1>Evaluating our Model</h1>"
      ]
    },
    {
      "cell_type": "code",
      "execution_count": null,
      "metadata": {
        "colab": {
          "base_uri": "https://localhost:8080/",
          "height": 112
        },
        "id": "kZAICucFPRXx",
        "outputId": "ddbe07f7-8dfc-46b0-cd04-6df452512447"
      },
      "outputs": [
        {
          "data": {
            "image/png": "[encoded data removed]",
            "text/plain": [
              "<Figure size 432x288 with 1 Axes>"
            ]
          },
          "metadata": {
            "needs_background": "light"
          },
          "output_type": "display_data"
        },
        {
          "name": "stdout",
          "output_type": "stream",
          "text": [
            "GroundTruth:  Shirt Sandal Pullover Coat  Ankle boot Trouser Shirt Dress\n"
          ]
        }
      ],
      "source": [
        "dataiter = iter(testloader)\n",
        "images, labels = dataiter.next()\n",
        "\n",
        "# print images\n",
        "imshow(torchvision.utils.make_grid(images))\n",
        "print('GroundTruth: ', ' '.join(f'{classes[labels[j]]:5s}' for j in range(batch_size)))"
      ]
    },
    {
      "cell_type": "code",
      "execution_count": null,
      "metadata": {
        "colab": {
          "base_uri": "https://localhost:8080/"
        },
        "id": "I6XAn4mNr8_W",
        "outputId": "3a47fecd-91ad-4274-ef90-beb63ee1d07e"
      },
      "outputs": [
        {
          "name": "stdout",
          "output_type": "stream",
          "text": [
            "Accuracy of the network on the 10000 test images: 92 %\n"
          ]
        }
      ],
      "source": [
        "correct = 0\n",
        "total = 0\n",
        "# since we're not training, we don't need to calculate the gradients for our outputs\n",
        "with torch.no_grad():\n",
        "    for data in testloader:\n",
        "        images, labels = data\n",
        "        images = images.to(device)\n",
        "        labels = labels.to(device)\n",
        "        # calculate outputs by running images through the network\n",
        "        outputs = model(images)\n",
        "        # the class with the highest energy is what we choose as prediction\n",
        "        _, predicted = torch.max(outputs.data, 1)\n",
        "        total += labels.size(0)\n",
        "        correct += (predicted == labels).sum().item()\n",
        "\n",
        "print(f'Accuracy of the network on the 10000 test images: {100 * correct // total} %')"
      ]
    },
    {
      "cell_type": "markdown",
      "metadata": {},
      "source": [
        "<h1>Using our Model</h1>"
      ]
    },
    {
      "cell_type": "code",
      "execution_count": null,
      "metadata": {
        "colab": {
          "base_uri": "https://localhost:8080/",
          "height": 265
        },
        "id": "Ra_kXL0EV2vf",
        "outputId": "d91906ff-bf30-4466-b6c1-c3f63ec80dd3"
      },
      "outputs": [
        {
          "name": "stdout",
          "output_type": "stream",
          "text": [
            "Ground Truth: Trouser\n"
          ]
        },
        {
          "data": {
            "image/png": "[encoded data removed]",
            "text/plain": [
              "<Figure size 432x288 with 1 Axes>"
            ]
          },
          "metadata": {
            "needs_background": "light"
          },
          "output_type": "display_data"
        }
      ],
      "source": [
        "import random\n",
        "rand = random.randint(0,9999)\n",
        "image = test_dataset[rand][0] # shape: [(1) batch_size, 28, 28]\n",
        "plt.subplot()\n",
        "plt.axis('off')\n",
        "# [1, 28, 28] -> [28, 28]\n",
        "plt.imshow(image.squeeze(0))\n",
        "print(f\"Ground Truth: {classes[test_dataset[rand][1]]}\")"
      ]
    },
    {
      "cell_type": "code",
      "execution_count": null,
      "metadata": {
        "colab": {
          "base_uri": "https://localhost:8080/"
        },
        "id": "rgE35PGOtMun",
        "outputId": "56fb78f9-eaa4-4610-b407-7ecb6401208f"
      },
      "outputs": [
        {
          "name": "stdout",
          "output_type": "stream",
          "text": [
            "Prediction: Trouser\n"
          ]
        }
      ],
      "source": [
        "with torch.no_grad():\n",
        "    # cast input to device\n",
        "    # [(1), 28, 28] -> [(1), (1), 28, 28]\n",
        "    image = image.to(device)\n",
        "\n",
        "    log_preds = model(image.unsqueeze(0))\n",
        "\n",
        "# post processes the image into probabilities of it being each digit\n",
        "#   Math: probabilites were natural logged, so torch.exp() performs e^(log_preds)\n",
        "preds = torch.exp(log_preds)\n",
        "probab = list(preds.cpu().numpy()[0])\n",
        "pred_label = probab.index(max(probab)) # get index of max num (highest probability)\n",
        "\n",
        "print(f\"Prediction: {classes[pred_label]}\")"
      ]
    },
    {
      "cell_type": "code",
      "execution_count": null,
      "metadata": {
        "id": "TOpENCdFtSRZ"
      },
      "outputs": [],
      "source": []
    }
  ],
  "metadata": {
    "accelerator": "GPU",
    "colab": {
      "collapsed_sections": [],
      "name": "CV Classification.ipynb",
      "provenance": []
    },
    "kernelspec": {
      "display_name": "Python 3",
      "name": "python3"
    },
    "language_info": {
      "name": "python"
    }
  },
  "nbformat": 4,
  "nbformat_minor": 0
}
